{
 "cells": [
  {
   "cell_type": "markdown",
   "id": "ee500f15",
   "metadata": {},
   "source": [
    "#  imports"
   ]
  },
  {
   "cell_type": "code",
   "execution_count": 1,
   "id": "391ea351",
   "metadata": {},
   "outputs": [],
   "source": [
    "from sklearn.model_selection import train_test_split \n",
    "from sklearn.neighbors import KNeighborsClassifier\n",
    "import numpy as np \n",
    "import random \n",
    "import pandas as pd\n",
    "from sklearn.model_selection import KFold\n",
    "from sklearn.metrics import accuracy_score, precision_score, recall_score, f1_score, roc_curve, auc\n",
    "import matplotlib.pyplot as plt\n",
    "from sklearn.model_selection import cross_val_score\n",
    "from sklearn.naive_bayes import GaussianNB\n",
    "from sklearn.metrics import classification_report\n",
    "from sklearn.model_selection import cross_validate\n",
    "import seaborn as sns\n",
    "from sklearn.metrics import plot_roc_curve\n",
    "from sklearn.model_selection import RepeatedStratifiedKFold\n",
    "from sklearn.model_selection import GridSearchCV\n",
    "from sklearn.linear_model import LogisticRegression\n",
    "from sklearn.metrics import confusion_matrix\n",
    "from sklearn.metrics import roc_auc_score\n"
   ]
  },
  {
   "cell_type": "markdown",
   "id": "2bd89aff",
   "metadata": {},
   "source": [
    "#  loading the data"
   ]
  },
  {
   "cell_type": "code",
   "execution_count": 2,
   "id": "6acd0a79",
   "metadata": {},
   "outputs": [
    {
     "name": "stdout",
     "output_type": "stream",
     "text": [
      "(863, 15)\n"
     ]
    }
   ],
   "source": [
    "data_set= pd.read_csv(\"data.csv\")\n",
    "data_set_size =data_set.shape  \n",
    "print(data_set_size )"
   ]
  },
  {
   "cell_type": "code",
   "execution_count": 3,
   "id": "a2a10ae1",
   "metadata": {},
   "outputs": [
    {
     "data": {
      "text/html": [
       "<div>\n",
       "<style scoped>\n",
       "    .dataframe tbody tr th:only-of-type {\n",
       "        vertical-align: middle;\n",
       "    }\n",
       "\n",
       "    .dataframe tbody tr th {\n",
       "        vertical-align: top;\n",
       "    }\n",
       "\n",
       "    .dataframe thead th {\n",
       "        text-align: right;\n",
       "    }\n",
       "</style>\n",
       "<table border=\"1\" class=\"dataframe\">\n",
       "  <thead>\n",
       "    <tr style=\"text-align: right;\">\n",
       "      <th></th>\n",
       "      <th>Unnamed: 0</th>\n",
       "      <th>location</th>\n",
       "      <th>country</th>\n",
       "      <th>gender</th>\n",
       "      <th>age</th>\n",
       "      <th>vis_wuhan</th>\n",
       "      <th>from_wuhan</th>\n",
       "      <th>symptom1</th>\n",
       "      <th>symptom2</th>\n",
       "      <th>symptom3</th>\n",
       "      <th>symptom4</th>\n",
       "      <th>symptom5</th>\n",
       "      <th>symptom6</th>\n",
       "      <th>diff_sym_hos</th>\n",
       "      <th>result</th>\n",
       "    </tr>\n",
       "  </thead>\n",
       "  <tbody>\n",
       "    <tr>\n",
       "      <th>0</th>\n",
       "      <td>0</td>\n",
       "      <td>104</td>\n",
       "      <td>8</td>\n",
       "      <td>1</td>\n",
       "      <td>66.0</td>\n",
       "      <td>1</td>\n",
       "      <td>0</td>\n",
       "      <td>14</td>\n",
       "      <td>31</td>\n",
       "      <td>19</td>\n",
       "      <td>12</td>\n",
       "      <td>3</td>\n",
       "      <td>1</td>\n",
       "      <td>8</td>\n",
       "      <td>1</td>\n",
       "    </tr>\n",
       "    <tr>\n",
       "      <th>1</th>\n",
       "      <td>1</td>\n",
       "      <td>101</td>\n",
       "      <td>8</td>\n",
       "      <td>0</td>\n",
       "      <td>56.0</td>\n",
       "      <td>0</td>\n",
       "      <td>1</td>\n",
       "      <td>14</td>\n",
       "      <td>31</td>\n",
       "      <td>19</td>\n",
       "      <td>12</td>\n",
       "      <td>3</td>\n",
       "      <td>1</td>\n",
       "      <td>0</td>\n",
       "      <td>0</td>\n",
       "    </tr>\n",
       "    <tr>\n",
       "      <th>2</th>\n",
       "      <td>2</td>\n",
       "      <td>137</td>\n",
       "      <td>8</td>\n",
       "      <td>1</td>\n",
       "      <td>46.0</td>\n",
       "      <td>0</td>\n",
       "      <td>1</td>\n",
       "      <td>14</td>\n",
       "      <td>31</td>\n",
       "      <td>19</td>\n",
       "      <td>12</td>\n",
       "      <td>3</td>\n",
       "      <td>1</td>\n",
       "      <td>13</td>\n",
       "      <td>0</td>\n",
       "    </tr>\n",
       "    <tr>\n",
       "      <th>3</th>\n",
       "      <td>3</td>\n",
       "      <td>116</td>\n",
       "      <td>8</td>\n",
       "      <td>0</td>\n",
       "      <td>60.0</td>\n",
       "      <td>1</td>\n",
       "      <td>0</td>\n",
       "      <td>14</td>\n",
       "      <td>31</td>\n",
       "      <td>19</td>\n",
       "      <td>12</td>\n",
       "      <td>3</td>\n",
       "      <td>1</td>\n",
       "      <td>0</td>\n",
       "      <td>0</td>\n",
       "    </tr>\n",
       "    <tr>\n",
       "      <th>4</th>\n",
       "      <td>4</td>\n",
       "      <td>116</td>\n",
       "      <td>8</td>\n",
       "      <td>1</td>\n",
       "      <td>58.0</td>\n",
       "      <td>0</td>\n",
       "      <td>0</td>\n",
       "      <td>14</td>\n",
       "      <td>31</td>\n",
       "      <td>19</td>\n",
       "      <td>12</td>\n",
       "      <td>3</td>\n",
       "      <td>1</td>\n",
       "      <td>0</td>\n",
       "      <td>0</td>\n",
       "    </tr>\n",
       "  </tbody>\n",
       "</table>\n",
       "</div>"
      ],
      "text/plain": [
       "   Unnamed: 0  location  country  gender   age  vis_wuhan  from_wuhan  \\\n",
       "0           0       104        8       1  66.0          1           0   \n",
       "1           1       101        8       0  56.0          0           1   \n",
       "2           2       137        8       1  46.0          0           1   \n",
       "3           3       116        8       0  60.0          1           0   \n",
       "4           4       116        8       1  58.0          0           0   \n",
       "\n",
       "   symptom1  symptom2  symptom3  symptom4  symptom5  symptom6  diff_sym_hos  \\\n",
       "0        14        31        19        12         3         1             8   \n",
       "1        14        31        19        12         3         1             0   \n",
       "2        14        31        19        12         3         1            13   \n",
       "3        14        31        19        12         3         1             0   \n",
       "4        14        31        19        12         3         1             0   \n",
       "\n",
       "   result  \n",
       "0       1  \n",
       "1       0  \n",
       "2       0  \n",
       "3       0  \n",
       "4       0  "
      ]
     },
     "execution_count": 3,
     "metadata": {},
     "output_type": "execute_result"
    }
   ],
   "source": [
    "data_set.head(5)"
   ]
  },
  {
   "cell_type": "markdown",
   "id": "973d5dcc",
   "metadata": {},
   "source": [
    "#  divide the data into three partitions: training, and testing"
   ]
  },
  {
   "cell_type": "code",
   "execution_count": 4,
   "id": "4919606e",
   "metadata": {},
   "outputs": [],
   "source": [
    "labels = data_set['result']\n",
    "\n",
    "# Drop the target column from the features\n",
    "features = data_set.drop('result', axis=1)"
   ]
  },
  {
   "cell_type": "code",
   "execution_count": 5,
   "id": "e3087a75",
   "metadata": {},
   "outputs": [
    {
     "data": {
      "text/plain": [
       "0    755\n",
       "1    108\n",
       "Name: result, dtype: int64"
      ]
     },
     "execution_count": 5,
     "metadata": {},
     "output_type": "execute_result"
    }
   ],
   "source": [
    "#imbalanced data \n",
    "labels.value_counts()"
   ]
  },
  {
   "cell_type": "code",
   "execution_count": 6,
   "id": "135168da",
   "metadata": {},
   "outputs": [
    {
     "name": "stdout",
     "output_type": "stream",
     "text": [
      "173\n"
     ]
    }
   ],
   "source": [
    "X_train, X_test, y_train, y_test = train_test_split(features, labels, test_size=0.2, random_state=42)\n",
    "train_data_sets_size=y_train.shape[0]\n",
    "print(len(X_test))"
   ]
  },
  {
   "cell_type": "code",
   "execution_count": 7,
   "id": "f13346cb",
   "metadata": {},
   "outputs": [
    {
     "data": {
      "text/plain": [
       "0    607\n",
       "1     83\n",
       "Name: result, dtype: int64"
      ]
     },
     "execution_count": 7,
     "metadata": {},
     "output_type": "execute_result"
    }
   ],
   "source": [
    "#show the count of values in training set \n",
    "#note : data is imbalanced \n",
    "y_train.value_counts()"
   ]
  },
  {
   "cell_type": "markdown",
   "id": "762fbb6f",
   "metadata": {},
   "source": [
    "# K-Nearest Neighbors"
   ]
  },
  {
   "cell_type": "markdown",
   "id": "c9cd606f",
   "metadata": {},
   "source": [
    "# IN OUR APPROCH WE CONSIDER THAT :\n",
    "### - the most importance to us to minimize FN so highest recall is perfered as death (1) or recovered (0) : we see the some important to not to say recovered when the truth is that he/she will die so we cure about to minimizing false negatives so highest recall is preferred\n"
   ]
  },
  {
   "cell_type": "markdown",
   "id": "5ab709ad",
   "metadata": {},
   "source": [
    "###  using GridSearch to fine tuning the other parameters ,we use n_repeat =5 to deal with imbalance data\n"
   ]
  },
  {
   "cell_type": "code",
   "execution_count": 8,
   "id": "baee461c",
   "metadata": {},
   "outputs": [
    {
     "name": "stdout",
     "output_type": "stream",
     "text": [
      "Best: 0.599559 using {'metric': 'manhattan', 'n_neighbors': 3, 'weights': 'distance'}\n"
     ]
    }
   ],
   "source": [
    "model = KNeighborsClassifier()\n",
    "weights = ['uniform', 'distance']\n",
    "metric = ['euclidean', 'manhattan', 'minkowski']\n",
    "n_neighbors=[3,5,7,9,11]\n",
    "# define grid search\n",
    "grid = dict(n_neighbors=n_neighbors,weights=weights,metric=metric)\n",
    "cv = RepeatedStratifiedKFold(n_splits=5, n_repeats=5, random_state=1)\n",
    "grid_search = GridSearchCV(estimator=model, param_grid=grid, n_jobs=-1, cv=cv, scoring='recall',error_score=0)\n",
    "grid_result = grid_search.fit(X_train, y_train)\n",
    "# summarize results\n",
    "print(\"Best: %f using %s\" % (grid_result.best_score_, grid_result.best_params_))\n",
    "means = grid_result.cv_results_['mean_test_score']\n",
    "params = grid_result.cv_results_['params']\n",
    "knn_best_recall_params = grid_result.best_params_"
   ]
  },
  {
   "cell_type": "code",
   "execution_count": 9,
   "id": "29a0507b",
   "metadata": {},
   "outputs": [
    {
     "name": "stdout",
     "output_type": "stream",
     "text": [
      "Mean Accuracy: 0.933913\n"
     ]
    }
   ],
   "source": [
    "# Use the best hyperparameters found during grid search\n",
    "best_knn_recall_model = KNeighborsClassifier(n_neighbors=knn_best_recall_params['n_neighbors'],\n",
    "                                      weights=knn_best_recall_params['weights'],\n",
    "                                      metric=knn_best_recall_params['metric'])\n",
    "cv = RepeatedStratifiedKFold(n_splits=5, n_repeats=5, random_state=1)\n",
    "\n",
    "# Perform cross-validation for mean accuracy\n",
    "cv_accuracy = cross_val_score(best_knn_recall_model, X_train, y_train, cv=cv, scoring='accuracy')\n",
    "\n",
    "# Print mean accuracy and standard deviation\n",
    "print(\"Mean Accuracy: %f\" % cv_accuracy.mean())"
   ]
  },
  {
   "cell_type": "code",
   "execution_count": 10,
   "id": "0e601b2f",
   "metadata": {},
   "outputs": [
    {
     "data": {
      "image/png": "[encoded data removed]",
      "text/plain": [
       "<Figure size 720x432 with 1 Axes>"
      ]
     },
     "metadata": {
      "needs_background": "light"
     },
     "output_type": "display_data"
    }
   ],
   "source": [
    "# Create a dictionary to store k values with their corresponding highest test scores\n",
    "k_best_test_scores = {}\n",
    "\n",
    "for mean, param in zip(means, params):\n",
    "    k_value = param['n_neighbors']\n",
    "    if k_value not in k_best_test_scores or mean > k_best_test_scores[k_value]:\n",
    "        k_best_test_scores[k_value] = mean\n",
    "        \n",
    "# Extracting k values and corresponding highest test scores\n",
    "k_values = list(k_best_test_scores.keys())\n",
    "best_test_scores = list(k_best_test_scores.values())\n",
    "\n",
    "# Creating a plot\n",
    "plt.figure(figsize=(10, 6))\n",
    "plt.plot(k_values, best_test_scores, marker='o', linestyle='-', color='b')\n",
    "plt.title('Highest Test Scores for Each k')\n",
    "plt.xlabel('k (Number of Neighbors)')\n",
    "plt.ylabel('Highest Test Score')\n",
    "plt.grid(True)\n",
    "plt.show()"
   ]
  },
  {
   "cell_type": "code",
   "execution_count": 11,
   "id": "c29b8771",
   "metadata": {},
   "outputs": [
    {
     "name": "stdout",
     "output_type": "stream",
     "text": [
      "Best: 0.939420 using {'metric': 'manhattan', 'n_neighbors': 5, 'weights': 'distance'}\n"
     ]
    }
   ],
   "source": [
    "model = KNeighborsClassifier()\n",
    "weights = ['uniform', 'distance']\n",
    "metric = ['euclidean', 'manhattan', 'minkowski']\n",
    "n_neighbors=[3,5,7,9,11]\n",
    "# define grid search\n",
    "grid = dict(n_neighbors=n_neighbors,weights=weights,metric=metric)\n",
    "cv = RepeatedStratifiedKFold(n_splits=5, n_repeats=5, random_state=1)\n",
    "grid_search = GridSearchCV(estimator=model, param_grid=grid, n_jobs=-1, cv=cv, scoring='accuracy',error_score=0)\n",
    "grid_result = grid_search.fit(X_train, y_train)\n",
    "# summarize results\n",
    "print(\"Best: %f using %s\" % (grid_result.best_score_, grid_result.best_params_))\n",
    "means = grid_result.cv_results_['mean_test_score']\n",
    "params = grid_result.cv_results_['params']\n",
    "knn_best_accuracy_params = grid_result.best_params_"
   ]
  },
  {
   "cell_type": "code",
   "execution_count": 12,
   "id": "1f0f2a48",
   "metadata": {},
   "outputs": [
    {
     "name": "stdout",
     "output_type": "stream",
     "text": [
      "Mean recall: 0.553088\n"
     ]
    }
   ],
   "source": [
    "# Use the best hyperparameters found during grid search\n",
    "best_knn_accu_model = KNeighborsClassifier(n_neighbors=knn_best_accuracy_params['n_neighbors'],\n",
    "                                      weights=knn_best_accuracy_params['weights'],\n",
    "                                   metric=knn_best_accuracy_params['metric'])\n",
    "cv = RepeatedStratifiedKFold(n_splits=5, n_repeats=5, random_state=1)\n",
    "\n",
    "# Perform cross-validation for mean accuracy\n",
    "cv_accuracy = cross_val_score(best_knn_accu_model, X_train, y_train, cv=cv, scoring='recall')\n",
    "\n",
    "# Print mean accuracy and standard deviation\n",
    "print(\"Mean recall: %f\" % cv_accuracy.mean())"
   ]
  },
  {
   "cell_type": "code",
   "execution_count": 13,
   "id": "8e2d0ee1",
   "metadata": {},
   "outputs": [
    {
     "data": {
      "image/png": "[encoded data removed]",
      "text/plain": [
       "<Figure size 720x432 with 1 Axes>"
      ]
     },
     "metadata": {
      "needs_background": "light"
     },
     "output_type": "display_data"
    }
   ],
   "source": [
    "# Create a dictionary to store k values with their corresponding highest test scores\n",
    "k_best_test_scores = {}\n",
    "\n",
    "for mean, param in zip(means, params):\n",
    "    k_value = param['n_neighbors']\n",
    "    if k_value not in k_best_test_scores or mean > k_best_test_scores[k_value]:\n",
    "        k_best_test_scores[k_value] = mean\n",
    "        \n",
    "# Extracting k values and corresponding highest test scores\n",
    "k_values = list(k_best_test_scores.keys())\n",
    "best_test_scores = list(k_best_test_scores.values())\n",
    "\n",
    "# Creating a plot\n",
    "plt.figure(figsize=(10, 6))\n",
    "plt.plot(k_values, best_test_scores, marker='o', linestyle='-', color='b')\n",
    "plt.title('Highest Test Scores for Each k')\n",
    "plt.xlabel('k (Number of Neighbors)')\n",
    "plt.ylabel('Highest Test Score')\n",
    "plt.grid(True)\n",
    "plt.show()"
   ]
  },
  {
   "cell_type": "markdown",
   "id": "367ef774",
   "metadata": {},
   "source": [
    "## as best recall model is comparable with best accurate model we will use best recall model and we concern om the recall"
   ]
  },
  {
   "cell_type": "markdown",
   "id": "0f0023b4",
   "metadata": {},
   "source": [
    "# 2. Logistic Regression\n",
    "## first fune tunning the hyperparameters of Logistic Regression model"
   ]
  },
  {
   "cell_type": "code",
   "execution_count": 14,
   "id": "6f210ed8",
   "metadata": {},
   "outputs": [
    {
     "name": "stdout",
     "output_type": "stream",
     "text": [
      "Best: 0.947395 using {'C': 100, 'max_iter': 10000, 'penalty': 'l1', 'solver': 'liblinear'}\n"
     ]
    }
   ],
   "source": [
    "# Create a Logistic Regression model\n",
    "Logistic_Regression_model = LogisticRegression()\n",
    "\n",
    "param_grid = {\n",
    "    'solver': ['newton-cg', 'lbfgs', 'liblinear'],\n",
    "    'penalty': ['l1', 'l2', 'elasticnet'],\n",
    "    'C': [100, 10, 1.0, 0.1, 0.01],\n",
    "    'max_iter': [10000,20000],\n",
    "}\n",
    "cv = RepeatedStratifiedKFold(n_splits=5, n_repeats=5, random_state=1)\n",
    "grid_search = GridSearchCV(estimator=Logistic_Regression_model, param_grid=param_grid, n_jobs=-1, cv=cv, scoring='accuracy', error_score=0)\n",
    "grid_result = grid_search.fit(features, labels)\n",
    "\n",
    "print(\"Best: %f using %s\" % (grid_result.best_score_, grid_result.best_params_))\n",
    "\n"
   ]
  },
  {
   "cell_type": "markdown",
   "id": "7854bcf5",
   "metadata": {},
   "source": [
    "## the best model with accuracy is the same the best model of recall"
   ]
  },
  {
   "cell_type": "code",
   "execution_count": 15,
   "id": "a6c6b3c0",
   "metadata": {},
   "outputs": [
    {
     "name": "stdout",
     "output_type": "stream",
     "text": [
      "Best: 0.722684 using {'C': 100, 'max_iter': 10000, 'penalty': 'l1', 'solver': 'liblinear'}\n"
     ]
    }
   ],
   "source": [
    "# Create a Logistic Regression model\n",
    "Logistic_Regression_model = LogisticRegression()\n",
    "\n",
    "param_grid = {\n",
    "    'solver': ['newton-cg', 'lbfgs', 'liblinear'],\n",
    "    'penalty': ['l1', 'l2', 'elasticnet'],\n",
    "    'C': [100, 10, 1.0, 0.1, 0.01],\n",
    "    'max_iter': [10000,20000],\n",
    "}\n",
    "cv = RepeatedStratifiedKFold(n_splits=5, n_repeats=5, random_state=1)\n",
    "\n",
    "grid_search = GridSearchCV(estimator=Logistic_Regression_model, param_grid=param_grid, n_jobs=-1, cv=cv, scoring='recall', error_score=0)\n",
    "grid_result = grid_search.fit(features, labels)\n",
    "\n",
    "print(\"Best: %f using %s\" % (grid_result.best_score_, grid_result.best_params_))\n",
    "LR_best_acc_params = grid_result.best_params_"
   ]
  },
  {
   "cell_type": "markdown",
   "id": "088a9107",
   "metadata": {},
   "source": [
    "# Naive Bayes classifier"
   ]
  },
  {
   "cell_type": "code",
   "execution_count": 16,
   "id": "a7c6ec46",
   "metadata": {},
   "outputs": [
    {
     "name": "stdout",
     "output_type": "stream",
     "text": [
      "Fitting 25 folds for each of 100 candidates, totalling 2500 fits\n",
      "Best: 0.915072 using {'var_smoothing': 0.0004328761281083057}\n"
     ]
    }
   ],
   "source": [
    "params_NB = {'var_smoothing': np.logspace(0,-9, num=100)}\n",
    "cv = RepeatedStratifiedKFold(n_splits=5, n_repeats=5, random_state=1)\n",
    "grid_search = GridSearchCV(estimator=GaussianNB(), \n",
    "                     param_grid=params_NB, \n",
    "                     cv=cv,\n",
    "                     verbose=1, \n",
    "                     scoring='accuracy')\n",
    "grid_result = grid_search.fit(X_train, y_train)\n",
    "print(\"Best: %f using %s\" % (grid_result.best_score_, grid_result.best_params_))"
   ]
  },
  {
   "cell_type": "markdown",
   "id": "52765c5e",
   "metadata": {},
   "source": [
    "## first get model with the highest accuracy we get recall so low"
   ]
  },
  {
   "cell_type": "code",
   "execution_count": 17,
   "id": "3cd37653",
   "metadata": {},
   "outputs": [
    {
     "name": "stdout",
     "output_type": "stream",
     "text": [
      "{'var_smoothing': 0.0004328761281083057}\n",
      "Mean Recall: 0.393529\n"
     ]
    }
   ],
   "source": [
    "best_params_gb_acc = grid_result.best_params_\n",
    "print(best_params_gb_acc)\n",
    "Best_Accuracy_GB = GaussianNB(var_smoothing=best_params_gb_acc['var_smoothing'])\n",
    "cv = RepeatedStratifiedKFold(n_splits=5, n_repeats=5, random_state=1)\n",
    "\n",
    "# Perform cross-validation for mean recall\n",
    "cv_recall = cross_val_score(Best_Accuracy_GB, X_train, y_train, cv=cv, scoring='recall')\n",
    "print(\"Mean Recall: %f\" % cv_recall.mean())"
   ]
  },
  {
   "cell_type": "markdown",
   "id": "24a448b1",
   "metadata": {},
   "source": [
    "## second get the best model in recall which we concern to compare"
   ]
  },
  {
   "cell_type": "code",
   "execution_count": 18,
   "id": "b926b1c2",
   "metadata": {},
   "outputs": [
    {
     "name": "stdout",
     "output_type": "stream",
     "text": [
      "Fitting 25 folds for each of 100 candidates, totalling 2500 fits\n",
      "Best: 0.890441 using {'var_smoothing': 1e-09}\n"
     ]
    }
   ],
   "source": [
    "params_NB = {'var_smoothing': np.logspace(0,-9, num=100)}\n",
    "cv = RepeatedStratifiedKFold(n_splits=5, n_repeats=5, random_state=1) \n",
    "grid_search = GridSearchCV(estimator=GaussianNB(), \n",
    "                     param_grid=params_NB, \n",
    "                     cv=cv,\n",
    "                     verbose=1, \n",
    "                     scoring='recall')\n",
    "grid_result =grid_search.fit(X_train, y_train)\n",
    "print(\"Best: %f using %s\" % (grid_result.best_score_, grid_result.best_params_))"
   ]
  },
  {
   "cell_type": "code",
   "execution_count": 19,
   "id": "4b30547f",
   "metadata": {},
   "outputs": [
    {
     "name": "stdout",
     "output_type": "stream",
     "text": [
      "{'var_smoothing': 1e-09}\n",
      "Mean accuracy: 0.733043\n"
     ]
    }
   ],
   "source": [
    "best_params_gb_recall = grid_result.best_params_\n",
    "print(best_params_gb_recall)\n",
    "Best_Recall_GB = GaussianNB(var_smoothing=best_params_gb_recall['var_smoothing'])\n",
    "cv = RepeatedStratifiedKFold(n_splits=5, n_repeats=5, random_state=1)\n",
    "# Perform cross-validation for mean accuracy\n",
    "cv_recall = cross_val_score(Best_Recall_GB, X_train, y_train, cv=cv, scoring='accuracy')\n",
    "print(\"Mean accuracy: %f\" % cv_recall.mean())"
   ]
  },
  {
   "cell_type": "markdown",
   "id": "7ae704e8",
   "metadata": {},
   "source": [
    "## the recall of the best model on accuracy is so low so we choose the best model in recall"
   ]
  },
  {
   "cell_type": "code",
   "execution_count": 20,
   "id": "fb255830",
   "metadata": {},
   "outputs": [],
   "source": [
    "Models= {\n",
    "    \"KNN\": KNeighborsClassifier(metric=knn_best_recall_params['metric'],\n",
    "                                                    n_neighbors=knn_best_recall_params['n_neighbors'],\n",
    "                                                    weights=knn_best_recall_params['weights']),\n",
    "    \"LR\": LogisticRegression(solver=LR_best_acc_params['solver'],\n",
    "                                                    penalty=LR_best_acc_params['penalty'],\n",
    "                                                    C=LR_best_acc_params['C'],\n",
    "                                                    max_iter=LR_best_acc_params['max_iter'])\n",
    ",\n",
    "    \"GNB\": GaussianNB(var_smoothing=best_params_gb_recall['var_smoothing'])}"
   ]
  },
  {
   "cell_type": "markdown",
   "id": "b80143ee",
   "metadata": {},
   "source": [
    "# Now after fine tunning the models we will use test set to compare the different models\n",
    "### 1- KNN has good overall accuracy and has best recall for class 1 but struggles with precision  for class 1.\n",
    "### 2- LR performs well across all metrics, indicating robust classification with best f1-score  .\n",
    "### 3- GNB shows good performance for class 0 but faces challenges with recall for class 1 with the worest accuracy  .\n"
   ]
  },
  {
   "cell_type": "code",
   "execution_count": 21,
   "id": "0a0610f5",
   "metadata": {},
   "outputs": [
    {
     "name": "stdout",
     "output_type": "stream",
     "text": [
      "KNN: 91.91%\n",
      "              precision    recall  f1-score   support\n",
      "\n",
      "           0       0.99      0.92      0.95       158\n",
      "           1       0.52      0.87      0.65        15\n",
      "\n",
      "    accuracy                           0.92       173\n",
      "   macro avg       0.75      0.90      0.80       173\n",
      "weighted avg       0.95      0.92      0.93       173\n",
      "\n",
      "LR: 93.64%\n",
      "              precision    recall  f1-score   support\n",
      "\n",
      "           0       0.97      0.96      0.96       149\n",
      "           1       0.76      0.79      0.78        24\n",
      "\n",
      "    accuracy                           0.94       173\n",
      "   macro avg       0.86      0.88      0.87       173\n",
      "weighted avg       0.94      0.94      0.94       173\n",
      "\n",
      "GNB: 75.72%\n",
      "              precision    recall  f1-score   support\n",
      "\n",
      "           0       0.73      0.98      0.84       110\n",
      "           1       0.92      0.37      0.52        63\n",
      "\n",
      "    accuracy                           0.76       173\n",
      "   macro avg       0.82      0.67      0.68       173\n",
      "weighted avg       0.80      0.76      0.72       173\n",
      "\n"
     ]
    }
   ],
   "source": [
    "prediction = {}\n",
    "for model_name, model in Models.items():\n",
    "    fitted_model= model.fit(X_train, y_train)\n",
    "    prediction[model_name]= fitted_model.predict(X_test)\n",
    "    print(f\"{model_name}: {round(model.score(X_test, y_test) * 100, 2)}%\")\n",
    "    print(classification_report(prediction[model_name],y_test))"
   ]
  },
  {
   "cell_type": "markdown",
   "id": "4e75c440",
   "metadata": {},
   "source": [
    "### as we can see 2 FN in case of knn , 5  in case of logistic regression and 40 in case of gaussian naive classifier"
   ]
  },
  {
   "cell_type": "code",
   "execution_count": 22,
   "id": "9e10797e",
   "metadata": {},
   "outputs": [
    {
     "data": {
      "image/png": "[encoded data removed]",
      "text/plain": [
       "<Figure size 1296x360 with 6 Axes>"
      ]
     },
     "metadata": {
      "needs_background": "light"
     },
     "output_type": "display_data"
    }
   ],
   "source": [
    "fig, axes = plt.subplots(1, 3, figsize=(18, 5)) \n",
    "\n",
    "# Iterate over each (model_name, predicted_labels) pair and its corresponding subplot\n",
    "for (model_name, predicted_labels), ax in zip(prediction.items(), axes):\n",
    "    # Compute confusion matrix\n",
    "    cm = confusion_matrix(y_test, predicted_labels)\n",
    "    \n",
    "    # Create a heatmap using Seaborn\n",
    "    sns.heatmap(cm, annot=True, annot_kws={\"size\": 18}, fmt=\"d\", cmap=\"Blues\", ax=ax)\n",
    "    \n",
    "    # Set title and labels\n",
    "    ax.set(title=f\"Confusion Matrix: {model_name}\", xlabel=\"Predicted\", ylabel=\"Actual\")\n",
    "\n",
    "# Adjust layout\n",
    "plt.tight_layout()\n",
    "\n",
    "# Show the plot\n",
    "plt.show()\n"
   ]
  },
  {
   "cell_type": "markdown",
   "id": "2619a6af",
   "metadata": {},
   "source": [
    "### Logistic Regression (LR) outperforms K-Nearest Neighbors (KNN) and Gaussian Naive Bayes (GNB) with the highest cross-validation score and a relatively low standard deviation , indicating stable and superior performance."
   ]
  },
  {
   "cell_type": "code",
   "execution_count": 23,
   "id": "788deee6",
   "metadata": {},
   "outputs": [
    {
     "name": "stdout",
     "output_type": "stream",
     "text": [
      "  Model  Cross-val Score  Standard Deviation\n",
      "0   KNN         0.931884            0.037261\n",
      "1    LR         0.949275            0.025311\n",
      "2   GNB         0.768116            0.045830\n"
     ]
    }
   ],
   "source": [
    "Model_df= pd.DataFrame(columns= [\"Model\", \"Cross-val Score\", \"Standard Deviation\"])\n",
    "Cv = KFold(n_splits=10, shuffle=True, random_state=42)\n",
    "for model_name, model in Models.items():\n",
    "    Scores= cross_validate(model, X_train, y_train, cv= Cv, scoring=\"accuracy\")[\"test_score\"]\n",
    "    Avg_acc= np.mean(Scores)\n",
    "    Std_acc= np.std(Scores)\n",
    "    \n",
    "    Model_df= Model_df.append({\"Model\": model_name, \"Cross-val Score\": Avg_acc, \"Standard Deviation\": Std_acc}, ignore_index= True)\n",
    "\n",
    "print(Model_df)"
   ]
  },
  {
   "cell_type": "markdown",
   "id": "85639725",
   "metadata": {},
   "source": [
    "### the best model is logistic regression as it has the largest area under the curve "
   ]
  },
  {
   "cell_type": "code",
   "execution_count": 24,
   "id": "b032f11b",
   "metadata": {},
   "outputs": [
    {
     "data": {
      "image/png": "[encoded data removed]",
      "text/plain": [
       "<Figure size 1296x360 with 3 Axes>"
      ]
     },
     "metadata": {
      "needs_background": "light"
     },
     "output_type": "display_data"
    }
   ],
   "source": [
    "\n",
    "# Create a single figure for all models in the same row\n",
    "fig, axes = plt.subplots(1, 3, figsize=(18, 5))\n",
    "\n",
    "# Iterate over each model and its corresponding axis\n",
    "for (model_name, model), ax in zip(Models.items(), axes):\n",
    "    # Fit the model\n",
    "    fitted_model = model.fit(X_train, y_train)\n",
    "\n",
    "    # Plot the ROC curve\n",
    "    plot_roc_curve(fitted_model, X_test, y_test, ax=ax)\n",
    "\n",
    "    # Calculate the AUC score\n",
    "    y_pred_proba = fitted_model.predict_proba(X_test)[:, 1]\n",
    "    auc_score = roc_auc_score(y_test, y_pred_proba)\n",
    "\n",
    "    # Set the title with the AUC score\n",
    "    ax.set_title(f\"ROC Curve - {model_name}\\nAUC: {auc_score:.2f}\")\n",
    "\n",
    "# Show the plots\n",
    "plt.show()\n"
   ]
  },
  {
   "cell_type": "markdown",
   "id": "e30043d9",
   "metadata": {},
   "source": [
    "### We attempted to employ various methods such as SMOTEENN, but it resulted in poorer performance. Additionally, normalizing the data caused the values to cluster closely in certain regions, thereby degrading the accuracy of our predictions."
   ]
  }
 ],
 "metadata": {
  "kernelspec": {
   "display_name": "Python 3",
   "language": "python",
   "name": "python3"
  },
  "language_info": {
   "codemirror_mode": {
    "name": "ipython",
    "version": 3
   },
   "file_extension": ".py",
   "mimetype": "text/x-python",
   "name": "python",
   "nbconvert_exporter": "python",
   "pygments_lexer": "ipython3",
   "version": "3.8.8"
  }
 },
 "nbformat": 4,
 "nbformat_minor": 5
}
